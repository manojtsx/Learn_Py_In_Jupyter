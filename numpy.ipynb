{
 "cells": [
  {
   "cell_type": "markdown",
   "id": "fddffb65-c457-47b6-bbcb-542c55be1bf5",
   "metadata": {},
   "source": [
    "# Numpy Tutorial"
   ]
  },
  {
   "cell_type": "code",
   "execution_count": 2,
   "id": "2a64f6b0-4c89-4299-acc3-3809cdfaf55d",
   "metadata": {},
   "outputs": [
    {
     "name": "stdout",
     "output_type": "stream",
     "text": [
      "Requirement already satisfied: numpy in c:\\users\\manoj\\appdata\\local\\programs\\python\\python313\\lib\\site-packages (2.2.6)\n",
      "Note: you may need to restart the kernel to use updated packages.\n"
     ]
    }
   ],
   "source": [
    "pip install numpy"
   ]
  },
  {
   "cell_type": "markdown",
   "id": "a1bc1b21-681c-4d15-af1d-417ff0082eb2",
   "metadata": {},
   "source": [
    "import numpy"
   ]
  },
  {
   "cell_type": "code",
   "execution_count": 3,
   "id": "424526ad-1a47-4889-b1d2-5e39df1e428c",
   "metadata": {},
   "outputs": [],
   "source": [
    "import numpy as np"
   ]
  },
  {
   "cell_type": "code",
   "execution_count": 5,
   "id": "d2454480-675c-455f-8797-a9c60108b065",
   "metadata": {},
   "outputs": [],
   "source": [
    "myarr = np.array([3,6,32,7])"
   ]
  },
  {
   "cell_type": "code",
   "execution_count": 6,
   "id": "420a9953-efb0-47cf-90e6-4c3d6e9a53a4",
   "metadata": {},
   "outputs": [
    {
     "data": {
      "text/plain": [
       "array([ 3,  6, 32,  7])"
      ]
     },
     "execution_count": 6,
     "metadata": {},
     "output_type": "execute_result"
    }
   ],
   "source": [
    "myarr"
   ]
  },
  {
   "cell_type": "code",
   "execution_count": 9,
   "id": "dab95510-9fc6-4ea8-b0f6-ad03994a3ae2",
   "metadata": {},
   "outputs": [],
   "source": [
    "myarr = np.array([3,6,39,7], np.int8)"
   ]
  },
  {
   "cell_type": "code",
   "execution_count": 10,
   "id": "61497cd6-5e71-48c4-8698-0a4a962dfd28",
   "metadata": {},
   "outputs": [
    {
     "data": {
      "text/plain": [
       "array([ 3,  6, 39,  7], dtype=int8)"
      ]
     },
     "execution_count": 10,
     "metadata": {},
     "output_type": "execute_result"
    }
   ],
   "source": [
    "myarr"
   ]
  },
  {
   "cell_type": "code",
   "execution_count": 15,
   "id": "d165936a-6d0a-491d-8557-f76ec54f5be6",
   "metadata": {},
   "outputs": [],
   "source": [
    "myarr = np.array([[3,6,39,7],[1,4,5,8]], np.int8)"
   ]
  },
  {
   "cell_type": "code",
   "execution_count": 16,
   "id": "179b97df-6ee3-4834-af52-9d42c988f9f6",
   "metadata": {},
   "outputs": [
    {
     "data": {
      "text/plain": [
       "np.int8(6)"
      ]
     },
     "execution_count": 16,
     "metadata": {},
     "output_type": "execute_result"
    }
   ],
   "source": [
    "myarr[0][1]"
   ]
  },
  {
   "cell_type": "code",
   "execution_count": 17,
   "id": "13f8683c-bc40-46cb-8987-c27a18f39fe4",
   "metadata": {},
   "outputs": [
    {
     "data": {
      "text/plain": [
       "dtype('int8')"
      ]
     },
     "execution_count": 17,
     "metadata": {},
     "output_type": "execute_result"
    }
   ],
   "source": [
    "myarr.dtype"
   ]
  },
  {
   "cell_type": "code",
   "execution_count": 18,
   "id": "72a2f3ac-6d46-453d-abe2-40a8bb467290",
   "metadata": {},
   "outputs": [
    {
     "data": {
      "text/plain": [
       "(2, 4)"
      ]
     },
     "execution_count": 18,
     "metadata": {},
     "output_type": "execute_result"
    }
   ],
   "source": [
    "myarr.shape"
   ]
  },
  {
   "cell_type": "code",
   "execution_count": 19,
   "id": "5ae6984d-2b2e-428a-a734-dc1c2798a367",
   "metadata": {},
   "outputs": [],
   "source": [
    "myarr[0,1] = 45"
   ]
  },
  {
   "cell_type": "code",
   "execution_count": 20,
   "id": "e68ac389-eb36-42c9-8908-9c1e3ee00b33",
   "metadata": {},
   "outputs": [
    {
     "data": {
      "text/plain": [
       "array([[ 3, 45, 39,  7],\n",
       "       [ 1,  4,  5,  8]], dtype=int8)"
      ]
     },
     "execution_count": 20,
     "metadata": {},
     "output_type": "execute_result"
    }
   ],
   "source": [
    "myarr"
   ]
  },
  {
   "cell_type": "markdown",
   "id": "3d9d29dd-a184-4258-bdb6-5f614af0c8de",
   "metadata": {},
   "source": [
    "# Array Creation : Conversion from other Python Structures"
   ]
  },
  {
   "cell_type": "code",
   "execution_count": 28,
   "id": "3c067aeb-ebe9-4de4-9afd-80e1feb16961",
   "metadata": {},
   "outputs": [],
   "source": [
    "listarray = np.array([[1,2,3],[4,5,6],[9,2,4]])"
   ]
  },
  {
   "cell_type": "code",
   "execution_count": 23,
   "id": "0bb2ea50-d466-4956-b572-1f5bf7951193",
   "metadata": {},
   "outputs": [
    {
     "data": {
      "text/plain": [
       "dtype('int64')"
      ]
     },
     "execution_count": 23,
     "metadata": {},
     "output_type": "execute_result"
    }
   ],
   "source": [
    "listarray.dtype"
   ]
  },
  {
   "cell_type": "code",
   "execution_count": 24,
   "id": "a708b4b9-8b58-401d-ba43-65a1eef514fb",
   "metadata": {},
   "outputs": [
    {
     "data": {
      "text/plain": [
       "9"
      ]
     },
     "execution_count": 24,
     "metadata": {},
     "output_type": "execute_result"
    }
   ],
   "source": [
    "listarray.size"
   ]
  },
  {
   "cell_type": "code",
   "execution_count": 30,
   "id": "5f65a6e7-4863-49ae-9bad-3d4f4d8cecf9",
   "metadata": {},
   "outputs": [
    {
     "data": {
      "text/plain": [
       "(3, 3)"
      ]
     },
     "execution_count": 30,
     "metadata": {},
     "output_type": "execute_result"
    }
   ],
   "source": [
    "listarray.shape"
   ]
  },
  {
   "cell_type": "code",
   "execution_count": 31,
   "id": "5157c636-1885-4389-acc1-2c3e353234ed",
   "metadata": {},
   "outputs": [
    {
     "data": {
      "text/plain": [
       "array({56, 34}, dtype=object)"
      ]
     },
     "execution_count": 31,
     "metadata": {},
     "output_type": "execute_result"
    }
   ],
   "source": [
    "np.array({34,34,56})"
   ]
  },
  {
   "cell_type": "markdown",
   "id": "9bc95c7b-858b-48c1-b78a-28249099c0f9",
   "metadata": {},
   "source": [
    "# Array Creation : Intrinsic numpy array creation objects"
   ]
  },
  {
   "cell_type": "code",
   "execution_count": 32,
   "id": "f7b5c2b2-9f66-4a93-894e-eb1a870fb402",
   "metadata": {},
   "outputs": [],
   "source": [
    "zeroz = np.zeros((2,5))"
   ]
  },
  {
   "cell_type": "code",
   "execution_count": 35,
   "id": "0a36d38d-c847-4b35-b8eb-79dfbf6271d0",
   "metadata": {},
   "outputs": [
    {
     "data": {
      "text/plain": [
       "array([[0., 0., 0., 0., 0.],\n",
       "       [0., 0., 0., 0., 0.]])"
      ]
     },
     "execution_count": 35,
     "metadata": {},
     "output_type": "execute_result"
    }
   ],
   "source": [
    "zeroz # create an array of zeros"
   ]
  },
  {
   "cell_type": "code",
   "execution_count": 36,
   "id": "ed53fe55-ee1c-450c-809a-8c47fdbbf3aa",
   "metadata": {},
   "outputs": [],
   "source": [
    " rng = np.arange(15) #create an array from 0-14"
   ]
  },
  {
   "cell_type": "code",
   "execution_count": 39,
   "id": "eb580042-3955-4c9e-858c-e6c302036f61",
   "metadata": {},
   "outputs": [
    {
     "data": {
      "text/plain": [
       "array([ 0,  1,  2,  3,  4,  5,  6,  7,  8,  9, 10, 11, 12, 13, 14])"
      ]
     },
     "execution_count": 39,
     "metadata": {},
     "output_type": "execute_result"
    }
   ],
   "source": [
    "rng"
   ]
  },
  {
   "cell_type": "code",
   "execution_count": 54,
   "id": "c8454f6f-58b5-4afe-b3e1-d0e38cb9de28",
   "metadata": {},
   "outputs": [],
   "source": [
    "lspace = np.linspace(1,5,12)  # create an array from 1-5 of 12 elements equally spaced"
   ]
  },
  {
   "cell_type": "code",
   "execution_count": 43,
   "id": "433bc018-7bf0-4d8b-831d-9ce9031e535d",
   "metadata": {},
   "outputs": [
    {
     "data": {
      "text/plain": [
       "array([1.        , 1.36363636, 1.72727273, 2.09090909, 2.45454545,\n",
       "       2.81818182, 3.18181818, 3.54545455, 3.90909091, 4.27272727,\n",
       "       4.63636364, 5.        ])"
      ]
     },
     "execution_count": 43,
     "metadata": {},
     "output_type": "execute_result"
    }
   ],
   "source": [
    "lspace"
   ]
  },
  {
   "cell_type": "code",
   "execution_count": 44,
   "id": "7c2e52ea-c831-4c16-b05c-9c9535975afb",
   "metadata": {},
   "outputs": [],
   "source": [
    "emp = np.empty((4,6))"
   ]
  },
  {
   "cell_type": "code",
   "execution_count": 45,
   "id": "3de77552-ba40-4f7d-b907-ba31b58ef609",
   "metadata": {},
   "outputs": [
    {
     "data": {
      "text/plain": [
       "array([[4.67296746e-307, 1.69121096e-306, 1.33511018e-306,\n",
       "        1.89146896e-307, 7.56571288e-307, 3.11525958e-307],\n",
       "       [1.24610723e-306, 1.37962320e-306, 1.29060871e-306,\n",
       "        2.22518251e-306, 1.33511969e-306, 1.78022342e-306],\n",
       "       [1.05700345e-307, 3.11525958e-307, 1.69118108e-306,\n",
       "        8.06632139e-308, 1.20160711e-306, 1.69119330e-306],\n",
       "       [1.29062229e-306, 6.89804133e-307, 9.34608432e-307,\n",
       "        1.78019625e-306, 1.11261095e-306, 1.42410974e-306]])"
      ]
     },
     "execution_count": 45,
     "metadata": {},
     "output_type": "execute_result"
    }
   ],
   "source": [
    "emp"
   ]
  },
  {
   "cell_type": "code",
   "execution_count": 51,
   "id": "daf5a231-e804-4cca-a8a1-1478aeb3f8fb",
   "metadata": {},
   "outputs": [],
   "source": [
    "emp_like = np.empty_like(lspace) #creates a new array with the same shape and type as a given array (the prototype), but without initializing its entries."
   ]
  },
  {
   "cell_type": "code",
   "execution_count": 50,
   "id": "182b3db7-91a4-4f39-96c5-7998ade80b4d",
   "metadata": {},
   "outputs": [
    {
     "data": {
      "text/plain": [
       "array([1.        , 1.36363636, 1.72727273, 2.09090909, 2.45454545,\n",
       "       2.81818182, 3.18181818, 3.54545455, 3.90909091, 4.27272727,\n",
       "       4.63636364, 5.        ])"
      ]
     },
     "execution_count": 50,
     "metadata": {},
     "output_type": "execute_result"
    }
   ],
   "source": [
    "emp_like"
   ]
  },
  {
   "cell_type": "code",
   "execution_count": 55,
   "id": "9ce0fae1-8e2a-4afd-9526-1566fb61244c",
   "metadata": {},
   "outputs": [],
   "source": [
    "del lspace #deleting lspace from memory"
   ]
  },
  {
   "cell_type": "code",
   "execution_count": 58,
   "id": "4241d082-a324-4e2a-98bf-78ebf848ade0",
   "metadata": {},
   "outputs": [],
   "source": [
    "ide = np.identity(2)"
   ]
  },
  {
   "cell_type": "code",
   "execution_count": 59,
   "id": "9cc7d38d-90ea-453b-aa15-c56420cf9f12",
   "metadata": {},
   "outputs": [
    {
     "data": {
      "text/plain": [
       "array([[1., 0.],\n",
       "       [0., 1.]])"
      ]
     },
     "execution_count": 59,
     "metadata": {},
     "output_type": "execute_result"
    }
   ],
   "source": [
    "ide"
   ]
  },
  {
   "cell_type": "code",
   "execution_count": 60,
   "id": "4ee850e4-d03d-4354-9934-d1bc252b02cf",
   "metadata": {},
   "outputs": [],
   "source": [
    "arr = np.arange(99)"
   ]
  },
  {
   "cell_type": "code",
   "execution_count": 61,
   "id": "b50bb884-8d7b-4b97-9114-334c6ba9dd8f",
   "metadata": {},
   "outputs": [
    {
     "data": {
      "text/plain": [
       "array([ 0,  1,  2,  3,  4,  5,  6,  7,  8,  9, 10, 11, 12, 13, 14, 15, 16,\n",
       "       17, 18, 19, 20, 21, 22, 23, 24, 25, 26, 27, 28, 29, 30, 31, 32, 33,\n",
       "       34, 35, 36, 37, 38, 39, 40, 41, 42, 43, 44, 45, 46, 47, 48, 49, 50,\n",
       "       51, 52, 53, 54, 55, 56, 57, 58, 59, 60, 61, 62, 63, 64, 65, 66, 67,\n",
       "       68, 69, 70, 71, 72, 73, 74, 75, 76, 77, 78, 79, 80, 81, 82, 83, 84,\n",
       "       85, 86, 87, 88, 89, 90, 91, 92, 93, 94, 95, 96, 97, 98])"
      ]
     },
     "execution_count": 61,
     "metadata": {},
     "output_type": "execute_result"
    }
   ],
   "source": [
    "arr\n"
   ]
  },
  {
   "cell_type": "code",
   "execution_count": 67,
   "id": "9e08ce33-bf61-4563-a997-75b308e38b62",
   "metadata": {},
   "outputs": [
    {
     "data": {
      "text/plain": [
       "array([[ 0,  1,  2,  3,  4,  5,  6,  7,  8,  9, 10, 11, 12, 13, 14, 15,\n",
       "        16, 17, 18, 19, 20, 21, 22, 23, 24, 25, 26, 27, 28, 29, 30, 31,\n",
       "        32],\n",
       "       [33, 34, 35, 36, 37, 38, 39, 40, 41, 42, 43, 44, 45, 46, 47, 48,\n",
       "        49, 50, 51, 52, 53, 54, 55, 56, 57, 58, 59, 60, 61, 62, 63, 64,\n",
       "        65],\n",
       "       [66, 67, 68, 69, 70, 71, 72, 73, 74, 75, 76, 77, 78, 79, 80, 81,\n",
       "        82, 83, 84, 85, 86, 87, 88, 89, 90, 91, 92, 93, 94, 95, 96, 97,\n",
       "        98]])"
      ]
     },
     "execution_count": 67,
     "metadata": {},
     "output_type": "execute_result"
    }
   ],
   "source": [
    "arr = arr.reshape(3,33) # multiplying this should match with the size of original array"
   ]
  },
  {
   "cell_type": "code",
   "execution_count": 68,
   "id": "08a71403-a7b8-497e-8857-66d6b15b165e",
   "metadata": {},
   "outputs": [
    {
     "data": {
      "text/plain": [
       "array([ 0,  1,  2,  3,  4,  5,  6,  7,  8,  9, 10, 11, 12, 13, 14, 15, 16,\n",
       "       17, 18, 19, 20, 21, 22, 23, 24, 25, 26, 27, 28, 29, 30, 31, 32, 33,\n",
       "       34, 35, 36, 37, 38, 39, 40, 41, 42, 43, 44, 45, 46, 47, 48, 49, 50,\n",
       "       51, 52, 53, 54, 55, 56, 57, 58, 59, 60, 61, 62, 63, 64, 65, 66, 67,\n",
       "       68, 69, 70, 71, 72, 73, 74, 75, 76, 77, 78, 79, 80, 81, 82, 83, 84,\n",
       "       85, 86, 87, 88, 89, 90, 91, 92, 93, 94, 95, 96, 97, 98])"
      ]
     },
     "execution_count": 68,
     "metadata": {},
     "output_type": "execute_result"
    }
   ],
   "source": [
    "arr = arr.ravel()"
   ]
  },
  {
   "cell_type": "code",
   "execution_count": 69,
   "id": "bfc3178d-3143-456b-82b7-987984ffd550",
   "metadata": {},
   "outputs": [
    {
     "data": {
      "text/plain": [
       "(99,)"
      ]
     },
     "execution_count": 69,
     "metadata": {},
     "output_type": "execute_result"
    }
   ],
   "source": [
    "arr.shape"
   ]
  },
  {
   "cell_type": "code",
   "execution_count": 70,
   "id": "b4ff9ea4-bf95-40bf-9fb6-9d38b91f4065",
   "metadata": {},
   "outputs": [],
   "source": [
    "x = [[1,2,3],[4,5,6],[7,1,10]]"
   ]
  },
  {
   "cell_type": "code",
   "execution_count": 71,
   "id": "7090ca9d-7c20-4a14-bb38-bb4839a7186f",
   "metadata": {},
   "outputs": [],
   "source": [
    "ar = np.array(x)"
   ]
  },
  {
   "cell_type": "code",
   "execution_count": 72,
   "id": "155857fe-f899-4eca-8d1f-aa9a018734ef",
   "metadata": {},
   "outputs": [
    {
     "data": {
      "text/plain": [
       "array([[ 1,  2,  3],\n",
       "       [ 4,  5,  6],\n",
       "       [ 7,  1, 10]])"
      ]
     },
     "execution_count": 72,
     "metadata": {},
     "output_type": "execute_result"
    }
   ],
   "source": [
    "ar"
   ]
  },
  {
   "cell_type": "code",
   "execution_count": 73,
   "id": "bd95ce81-2649-412d-a7c8-3fcea4db9fd8",
   "metadata": {},
   "outputs": [
    {
     "data": {
      "text/plain": [
       "array([12,  8, 19])"
      ]
     },
     "execution_count": 73,
     "metadata": {},
     "output_type": "execute_result"
    }
   ],
   "source": [
    "ar.sum(axis = 0)"
   ]
  },
  {
   "cell_type": "code",
   "execution_count": 74,
   "id": "67744cac-bf69-4e74-915b-a3b99b26d6e1",
   "metadata": {},
   "outputs": [
    {
     "data": {
      "text/plain": [
       "array([ 6, 15, 18])"
      ]
     },
     "execution_count": 74,
     "metadata": {},
     "output_type": "execute_result"
    }
   ],
   "source": [
    "ar.sum(axis = 1)"
   ]
  },
  {
   "cell_type": "code",
   "execution_count": 76,
   "id": "64090532-b525-4baa-b8a0-c459bae83bf8",
   "metadata": {},
   "outputs": [
    {
     "data": {
      "text/plain": [
       "array([[ 1,  4,  7],\n",
       "       [ 2,  5,  1],\n",
       "       [ 3,  6, 10]])"
      ]
     },
     "execution_count": 76,
     "metadata": {},
     "output_type": "execute_result"
    }
   ],
   "source": [
    "ar.T #Transpose of matrix"
   ]
  },
  {
   "cell_type": "code",
   "execution_count": 77,
   "id": "32c60325-218d-40b3-9901-b9883e04ba7d",
   "metadata": {},
   "outputs": [
    {
     "data": {
      "text/plain": [
       "<numpy.flatiter at 0x207a60af2a0>"
      ]
     },
     "execution_count": 77,
     "metadata": {},
     "output_type": "execute_result"
    }
   ],
   "source": [
    "ar.flat"
   ]
  },
  {
   "cell_type": "code",
   "execution_count": 78,
   "id": "f2a832d7-80e2-474b-b16d-660f43f4796c",
   "metadata": {},
   "outputs": [
    {
     "name": "stdout",
     "output_type": "stream",
     "text": [
      "1\n",
      "2\n",
      "3\n",
      "4\n",
      "5\n",
      "6\n",
      "7\n",
      "1\n",
      "10\n"
     ]
    }
   ],
   "source": [
    "for item in ar.flat:\n",
    "    print(item)"
   ]
  },
  {
   "cell_type": "code",
   "execution_count": 79,
   "id": "857c365e-c792-4d40-b85f-c5e61989cb96",
   "metadata": {},
   "outputs": [
    {
     "data": {
      "text/plain": [
       "2"
      ]
     },
     "execution_count": 79,
     "metadata": {},
     "output_type": "execute_result"
    }
   ],
   "source": [
    "ar.ndim"
   ]
  },
  {
   "cell_type": "code",
   "execution_count": 80,
   "id": "dbbb6730-fe77-40c4-b2f2-247c55d2cf54",
   "metadata": {},
   "outputs": [
    {
     "data": {
      "text/plain": [
       "9"
      ]
     },
     "execution_count": 80,
     "metadata": {},
     "output_type": "execute_result"
    }
   ],
   "source": [
    "ar.size"
   ]
  },
  {
   "cell_type": "code",
   "execution_count": 81,
   "id": "2ff8808c-04c3-4484-9083-3ccae478555f",
   "metadata": {},
   "outputs": [
    {
     "data": {
      "text/plain": [
       "72"
      ]
     },
     "execution_count": 81,
     "metadata": {},
     "output_type": "execute_result"
    }
   ],
   "source": [
    "ar.nbytes # total number of bytes covered by elements of numpy array"
   ]
  },
  {
   "cell_type": "code",
   "execution_count": 88,
   "id": "e04d9b45-8b55-42e1-927b-22430400d7d9",
   "metadata": {},
   "outputs": [],
   "source": [
    "one = np.array([1,7,4,5,6])"
   ]
  },
  {
   "cell_type": "code",
   "execution_count": 89,
   "id": "27c4a462-fe2c-4a65-b834-0ef8f4fb552a",
   "metadata": {},
   "outputs": [
    {
     "data": {
      "text/plain": [
       "np.int64(1)"
      ]
     },
     "execution_count": 89,
     "metadata": {},
     "output_type": "execute_result"
    }
   ],
   "source": [
    "one.argmax()"
   ]
  },
  {
   "cell_type": "code",
   "execution_count": 90,
   "id": "596d034c-9451-4c53-96e8-d5ba2ab2b87b",
   "metadata": {},
   "outputs": [
    {
     "data": {
      "text/plain": [
       "np.int64(0)"
      ]
     },
     "execution_count": 90,
     "metadata": {},
     "output_type": "execute_result"
    }
   ],
   "source": [
    "one.argmin()"
   ]
  },
  {
   "cell_type": "code",
   "execution_count": 101,
   "id": "4ba1d575-27f4-4113-8b83-5b01c77b7bbe",
   "metadata": {},
   "outputs": [
    {
     "data": {
      "text/plain": [
       "array([0, 2, 3, 4, 1])"
      ]
     },
     "execution_count": 101,
     "metadata": {},
     "output_type": "execute_result"
    }
   ],
   "source": [
    "one.argsort() #sort the array"
   ]
  },
  {
   "cell_type": "code",
   "execution_count": 103,
   "id": "fa1ee7ea-0978-4a3c-97f6-ee7285f977cc",
   "metadata": {},
   "outputs": [
    {
     "data": {
      "text/plain": [
       "np.int64(98)"
      ]
     },
     "execution_count": 103,
     "metadata": {},
     "output_type": "execute_result"
    }
   ],
   "source": [
    "arr.argmax()"
   ]
  },
  {
   "cell_type": "code",
   "execution_count": 105,
   "id": "3b61a2b1-4892-461a-a8f0-a1641ee06b32",
   "metadata": {},
   "outputs": [
    {
     "data": {
      "text/plain": [
       "np.int64(0)"
      ]
     },
     "execution_count": 105,
     "metadata": {},
     "output_type": "execute_result"
    }
   ],
   "source": [
    "arr.argmin()"
   ]
  },
  {
   "cell_type": "code",
   "execution_count": 106,
   "id": "ade67b2b-0a9f-4bf4-9396-fec0ba9c0ca9",
   "metadata": {},
   "outputs": [
    {
     "data": {
      "text/plain": [
       "array([ 0,  1,  2,  3,  4,  5,  6,  7,  8,  9, 10, 11, 12, 13, 14, 15, 16,\n",
       "       17, 18, 19, 20, 21, 22, 23, 24, 25, 26, 27, 28, 29, 30, 31, 32, 33,\n",
       "       34, 35, 36, 37, 38, 39, 40, 41, 42, 43, 44, 45, 46, 47, 48, 49, 50,\n",
       "       51, 52, 53, 54, 55, 56, 57, 58, 59, 60, 61, 62, 63, 64, 65, 66, 67,\n",
       "       68, 69, 70, 71, 72, 73, 74, 75, 76, 77, 78, 79, 80, 81, 82, 83, 84,\n",
       "       85, 86, 87, 88, 89, 90, 91, 92, 93, 94, 95, 96, 97, 98])"
      ]
     },
     "execution_count": 106,
     "metadata": {},
     "output_type": "execute_result"
    }
   ],
   "source": [
    "arr.argsort()"
   ]
  },
  {
   "cell_type": "code",
   "execution_count": 107,
   "id": "becf6f6c-b8f7-47ab-9843-7b009c89209b",
   "metadata": {},
   "outputs": [],
   "source": [
    "ar1 = np.array([[1,2,3],[4,5,6]])"
   ]
  },
  {
   "cell_type": "code",
   "execution_count": 110,
   "id": "d50375f2-89bf-4dc7-a0f8-081585daf224",
   "metadata": {},
   "outputs": [],
   "source": [
    "ar2 = np.array([[8,9,0],[2,3,4]])"
   ]
  },
  {
   "cell_type": "code",
   "execution_count": 111,
   "id": "9f627f4e-9045-464b-9ba3-c57dfd712ca8",
   "metadata": {},
   "outputs": [
    {
     "data": {
      "text/plain": [
       "array([[ 9, 11,  3],\n",
       "       [ 6,  8, 10]])"
      ]
     },
     "execution_count": 111,
     "metadata": {},
     "output_type": "execute_result"
    }
   ],
   "source": [
    "ar1 + ar2 #array addition"
   ]
  },
  {
   "cell_type": "code",
   "execution_count": 112,
   "id": "94050194-51c8-42a6-b7c3-83074ac65b09",
   "metadata": {},
   "outputs": [
    {
     "data": {
      "text/plain": [
       "[1, 2, 3, 1, 4, 5]"
      ]
     },
     "execution_count": 112,
     "metadata": {},
     "output_type": "execute_result"
    }
   ],
   "source": [
    "[1,2,3] + [1,4,5]  #extends the list, this is not array"
   ]
  },
  {
   "cell_type": "code",
   "execution_count": 113,
   "id": "8631303b-a27f-49af-bc0f-0e849067e123",
   "metadata": {},
   "outputs": [
    {
     "data": {
      "text/plain": [
       "array([[ 8, 18,  0],\n",
       "       [ 8, 15, 24]])"
      ]
     },
     "execution_count": 113,
     "metadata": {},
     "output_type": "execute_result"
    }
   ],
   "source": [
    "ar1 * ar2 #multiply array"
   ]
  },
  {
   "cell_type": "code",
   "execution_count": 114,
   "id": "162c0bca-343f-483e-b6cf-8f8595bc3b0a",
   "metadata": {},
   "outputs": [
    {
     "data": {
      "text/plain": [
       "array([[-7, -7,  3],\n",
       "       [ 2,  2,  2]])"
      ]
     },
     "execution_count": 114,
     "metadata": {},
     "output_type": "execute_result"
    }
   ],
   "source": [
    "ar1 - ar2"
   ]
  },
  {
   "cell_type": "code",
   "execution_count": 115,
   "id": "9aa0c573-32d5-4f82-936b-55c1888989dd",
   "metadata": {},
   "outputs": [
    {
     "name": "stderr",
     "output_type": "stream",
     "text": [
      "C:\\Users\\manoj\\AppData\\Local\\Temp\\ipykernel_1960\\1791702316.py:1: RuntimeWarning: divide by zero encountered in divide\n",
      "  ar1 / ar2\n"
     ]
    },
    {
     "data": {
      "text/plain": [
       "array([[0.125     , 0.22222222,        inf],\n",
       "       [2.        , 1.66666667, 1.5       ]])"
      ]
     },
     "execution_count": 115,
     "metadata": {},
     "output_type": "execute_result"
    }
   ],
   "source": [
    "ar1 / ar2"
   ]
  },
  {
   "cell_type": "code",
   "execution_count": 116,
   "id": "919b0abd-3a62-4790-ba33-75e801dcac5c",
   "metadata": {},
   "outputs": [
    {
     "data": {
      "text/plain": [
       "array([[1.        , 1.41421356, 1.73205081],\n",
       "       [2.        , 2.23606798, 2.44948974],\n",
       "       [2.64575131, 1.        , 3.16227766]])"
      ]
     },
     "execution_count": 116,
     "metadata": {},
     "output_type": "execute_result"
    }
   ],
   "source": [
    "np.sqrt(ar)"
   ]
  },
  {
   "cell_type": "raw",
   "id": "6bce3eb7-07cb-4de2-bf63-8cb41e490ead",
   "metadata": {},
   "source": [
    "ar1.sum()"
   ]
  },
  {
   "cell_type": "code",
   "execution_count": 121,
   "id": "eda6c65d-d691-4940-965b-5b76f4a6d4c2",
   "metadata": {},
   "outputs": [
    {
     "data": {
      "text/plain": [
       "(array([1]), array([2]))"
      ]
     },
     "execution_count": 121,
     "metadata": {},
     "output_type": "execute_result"
    }
   ],
   "source": [
    "np.where(ar1 >  5)"
   ]
  },
  {
   "cell_type": "code",
   "execution_count": 122,
   "id": "42d47a70-2f62-48eb-bc88-9bb773fd5623",
   "metadata": {},
   "outputs": [
    {
     "data": {
      "text/plain": [
       "9"
      ]
     },
     "execution_count": 122,
     "metadata": {},
     "output_type": "execute_result"
    }
   ],
   "source": [
    "np.count_nonzero(ar)"
   ]
  },
  {
   "cell_type": "code",
   "execution_count": 123,
   "id": "2c450693-056c-4662-867a-a94e66acf8e2",
   "metadata": {},
   "outputs": [
    {
     "data": {
      "text/plain": [
       "(array([0, 0, 0, 1, 1, 1, 2, 2, 2]), array([0, 1, 2, 0, 1, 2, 0, 1, 2]))"
      ]
     },
     "execution_count": 123,
     "metadata": {},
     "output_type": "execute_result"
    }
   ],
   "source": [
    "np.nonzero(ar)"
   ]
  },
  {
   "cell_type": "code",
   "execution_count": 124,
   "id": "c18f87ce-1a55-41e0-89a6-9dd11d625b45",
   "metadata": {},
   "outputs": [],
   "source": [
    "import sys"
   ]
  },
  {
   "cell_type": "code",
   "execution_count": 125,
   "id": "60871677-86d4-4095-bc6e-89ba6100432b",
   "metadata": {},
   "outputs": [],
   "source": [
    "ch_ar = [0,4,55,2]"
   ]
  },
  {
   "cell_type": "code",
   "execution_count": 128,
   "id": "06cb2458-92ff-47d6-968c-240d09c4b174",
   "metadata": {},
   "outputs": [],
   "source": [
    "np_ar = np.array(ch_ar)"
   ]
  },
  {
   "cell_type": "code",
   "execution_count": 131,
   "id": "27051516-4ee4-4dd8-bcee-a491fc76339c",
   "metadata": {},
   "outputs": [
    {
     "data": {
      "text/plain": [
       "28"
      ]
     },
     "execution_count": 131,
     "metadata": {},
     "output_type": "execute_result"
    }
   ],
   "source": [
    "sys.getsizeof(1) #retuns the size of integer 1 "
   ]
  },
  {
   "cell_type": "code",
   "execution_count": 132,
   "id": "63ac7d62-5f0a-4ffb-81e4-80e3f19b29f2",
   "metadata": {},
   "outputs": [
    {
     "data": {
      "text/plain": [
       "4"
      ]
     },
     "execution_count": 132,
     "metadata": {},
     "output_type": "execute_result"
    }
   ],
   "source": [
    "len(np_ar)"
   ]
  },
  {
   "cell_type": "code",
   "execution_count": 134,
   "id": "e9f18472-79f5-4116-80cd-ab763f564535",
   "metadata": {},
   "outputs": [
    {
     "data": {
      "text/plain": [
       "32"
      ]
     },
     "execution_count": 134,
     "metadata": {},
     "output_type": "execute_result"
    }
   ],
   "source": [
    "np_ar.itemsize * np_ar.size"
   ]
  }
 ],
 "metadata": {
  "kernelspec": {
   "display_name": "Python 3 (ipykernel)",
   "language": "python",
   "name": "python3"
  },
  "language_info": {
   "codemirror_mode": {
    "name": "ipython",
    "version": 3
   },
   "file_extension": ".py",
   "mimetype": "text/x-python",
   "name": "python",
   "nbconvert_exporter": "python",
   "pygments_lexer": "ipython3",
   "version": "3.13.3"
  }
 },
 "nbformat": 4,
 "nbformat_minor": 5
}
