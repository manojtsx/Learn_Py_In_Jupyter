{
 "cells": [
  {
   "cell_type": "code",
   "execution_count": 2,
   "id": "f1640488-a614-4cb2-bec6-07dcefabf77c",
   "metadata": {},
   "outputs": [
    {
     "name": "stdout",
     "output_type": "stream",
     "text": [
      "1\n",
      "2\n",
      "3\n",
      "4\n",
      "5\n",
      "6\n",
      "7\n",
      "8\n",
      "9\n",
      "10\n",
      "11\n",
      "12\n",
      "13\n",
      "14\n",
      "15\n",
      "16\n",
      "17\n",
      "18\n",
      "19\n",
      "20\n"
     ]
    }
   ],
   "source": [
    "# loop to print from 1 to 20\n",
    "for i in range(1,21):\n",
    "    print(i)"
   ]
  },
  {
   "cell_type": "code",
   "execution_count": 6,
   "id": "0239ad48-bfd1-40ac-99b1-71832f5539de",
   "metadata": {},
   "outputs": [
    {
     "name": "stdout",
     "output_type": "stream",
     "text": [
      "Even\n"
     ]
    }
   ],
   "source": [
    "def isOddOrEven(num):\n",
    "    if(num%2 == 0):\n",
    "        print(\"Even\")\n",
    "    else:\n",
    "        print(\"Odd\")\n",
    "\n",
    "isOddOrEven(2)"
   ]
  },
  {
   "cell_type": "code",
   "execution_count": 8,
   "id": "70213723-1645-4f03-b640-04ae935b06aa",
   "metadata": {},
   "outputs": [
    {
     "name": "stdout",
     "output_type": "stream",
     "text": [
      "7 * 1 = 7\n",
      "7 * 2 = 14\n",
      "7 * 3 = 21\n",
      "7 * 4 = 28\n",
      "7 * 5 = 35\n",
      "7 * 6 = 42\n",
      "7 * 7 = 49\n",
      "7 * 8 = 56\n",
      "7 * 9 = 63\n",
      "7 * 10 = 70\n"
     ]
    }
   ],
   "source": [
    "def mul(num):\n",
    "    for i in range(1,11):\n",
    "        # print(f\"{num}*{i}={num*i}\")\n",
    "        print(num, \"*\", i, \"=\", num*i) # both are correct\n",
    "\n",
    "mul(7)"
   ]
  },
  {
   "cell_type": "code",
   "execution_count": 11,
   "id": "6e0ecdb4-364b-4444-bfd5-4ae77b33190f",
   "metadata": {},
   "outputs": [
    {
     "name": "stdout",
     "output_type": "stream",
     "text": [
      "24\n"
     ]
    }
   ],
   "source": [
    "def fact(num):\n",
    "    if num == 1:\n",
    "        return 1;\n",
    "    return num * fact(num-1);\n",
    "print(fact(4))"
   ]
  },
  {
   "cell_type": "code",
   "execution_count": 28,
   "id": "10877881-b70b-42de-8b98-f36fd18bffef",
   "metadata": {},
   "outputs": [
    {
     "name": "stdout",
     "output_type": "stream",
     "text": [
      "mam\n",
      "is Palindrome\n"
     ]
    }
   ],
   "source": [
    "def isPalindrome(str):\n",
    "    s = str.lower() # lowers and retuns the lowercase\n",
    "    lst = list(s) #converts into list\n",
    "    lst.reverse() #reverse the list and returns None\n",
    "    newstr = \"\".join(lst) # join the list with empty separater\n",
    "    if(s == newstr): # checks for the equality\n",
    "        print(\"is Palindrome\")\n",
    "    else:\n",
    "        print(\"not Palindrome\")\n",
    "\n",
    "isPalindrome(\"Mam\")"
   ]
  },
  {
   "cell_type": "code",
   "execution_count": 33,
   "id": "a309b4ff-b366-4eaa-a751-42c90c62fa68",
   "metadata": {},
   "outputs": [
    {
     "name": "stdout",
     "output_type": "stream",
     "text": [
      "[1, 2, 4, 5, 7]\n"
     ]
    }
   ],
   "source": [
    "# sort  a list without using sort method\n",
    "def sort_list(lst):\n",
    "    for i in range(len(lst)):\n",
    "        if type(lst[i]) != int:\n",
    "            print(\"A Non number in the list\")\n",
    "    for i in range(len(lst)):\n",
    "        for j in range(i+ 1, len(lst)):\n",
    "            if(lst[i] > lst[j]):\n",
    "                temp = lst[i]\n",
    "                lst[i] = lst[j]\n",
    "                lst[j] = temp\n",
    "\n",
    "    print(lst)\n",
    "\n",
    "sort_list([4,2,1,7,5])"
   ]
  },
  {
   "cell_type": "code",
   "execution_count": null,
   "id": "e0cfef0b-0a7a-471a-8409-6ab8997f88fe",
   "metadata": {},
   "outputs": [],
   "source": []
  }
 ],
 "metadata": {
  "kernelspec": {
   "display_name": "Python 3 (ipykernel)",
   "language": "python",
   "name": "python3"
  },
  "language_info": {
   "codemirror_mode": {
    "name": "ipython",
    "version": 3
   },
   "file_extension": ".py",
   "mimetype": "text/x-python",
   "name": "python",
   "nbconvert_exporter": "python",
   "pygments_lexer": "ipython3",
   "version": "3.13.3"
  }
 },
 "nbformat": 4,
 "nbformat_minor": 5
}
