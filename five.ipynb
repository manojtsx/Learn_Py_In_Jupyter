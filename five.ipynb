{
 "cells": [
  {
   "cell_type": "code",
   "execution_count": 23,
   "id": "2d569312-5693-490e-b9e1-fa4ea4c1dc94",
   "metadata": {},
   "outputs": [
    {
     "name": "stdout",
     "output_type": "stream",
     "text": [
      "True\n"
     ]
    }
   ],
   "source": [
    "# check the status\n",
    "a= -1\n",
    "b = -1\n",
    "flag = True\n",
    "\n",
    "if (a < 0 or b < 0) and flag == False:\n",
    "    print(True)\n",
    "elif (a < 0 and b < 0) and flag:\n",
    "    print(True)\n",
    "else:\n",
    "    print(False)"
   ]
  },
  {
   "cell_type": "code",
   "execution_count": 35,
   "id": "e25eaf71-9d0b-4140-aad1-ce5d6d799730",
   "metadata": {},
   "outputs": [
    {
     "name": "stdout",
     "output_type": "stream",
     "text": [
      "Increasing form negative to 0\n",
      "-3 -2 -1 0 \n",
      "Decreasing form positive to 0\n",
      "3 2 1 0 \n",
      "Printing zero\n",
      "0\n",
      "\n"
     ]
    }
   ],
   "source": [
    "#Zero Converter\n",
    "def func(n):\n",
    "    if(n < 0):\n",
    "        for i in range(n,1):\n",
    "            print(i, end=\" \")\n",
    "    elif n > 0:\n",
    "        for i in range(n,-1,-1):\n",
    "            print(i, end = \" \")\n",
    "    else:\n",
    "        print(n)\n",
    "    print()\n",
    "\n",
    "print(\"Increasing form negative to 0\")\n",
    "func(-3)\n",
    "print(\"Decreasing form positive to 0\")\n",
    "func(3)\n",
    "print(\"Printing zero\")\n",
    "func(0)\n"
   ]
  },
  {
   "cell_type": "code",
   "execution_count": 3,
   "id": "1fec7e6d-cc39-4a16-b286-6e6f12249637",
   "metadata": {},
   "outputs": [
    {
     "name": "stdout",
     "output_type": "stream",
     "text": [
      "Defaulting to user installation because normal site-packages is not writeable\n",
      "Collecting sympy\n",
      "  Using cached sympy-1.14.0-py3-none-any.whl.metadata (12 kB)\n",
      "Collecting mpmath<1.4,>=1.1.0 (from sympy)\n",
      "  Using cached mpmath-1.3.0-py3-none-any.whl.metadata (8.6 kB)\n",
      "Using cached sympy-1.14.0-py3-none-any.whl (6.3 MB)\n",
      "Using cached mpmath-1.3.0-py3-none-any.whl (536 kB)\n",
      "Installing collected packages: mpmath, sympy\n",
      "Successfully installed mpmath-1.3.0 sympy-1.14.0\n"
     ]
    },
    {
     "name": "stderr",
     "output_type": "stream",
     "text": [
      "  WARNING: The script isympy.exe is installed in 'C:\\Users\\manoj\\AppData\\Local\\Packages\\PythonSoftwareFoundation.Python.3.13_qbz5n2kfra8p0\\LocalCache\\local-packages\\Python313\\Scripts' which is not on PATH.\n",
      "  Consider adding this directory to PATH or, if you prefer to suppress this warning, use --no-warn-script-location.\n",
      "\n",
      "[notice] A new release of pip is available: 25.0.1 -> 25.1.1\n",
      "[notice] To update, run: C:\\Users\\manoj\\AppData\\Local\\Microsoft\\WindowsApps\\PythonSoftwareFoundation.Python.3.13_qbz5n2kfra8p0\\python.exe -m pip install --upgrade pip\n"
     ]
    }
   ],
   "source": [
    "!pip install sympy"
   ]
  },
  {
   "cell_type": "code",
   "execution_count": 4,
   "id": "eb87b9c5-5613-4901-b90b-8702f5633721",
   "metadata": {},
   "outputs": [
    {
     "name": "stdout",
     "output_type": "stream",
     "text": [
      "False\n",
      "True\n",
      "True\n"
     ]
    }
   ],
   "source": [
    "from sympy import *\n",
    "\n",
    "g1 = isprime(30)\n",
    "g2 = isprime(13)\n",
    "g3 = isprime(2)\n",
    "\n",
    "print(g1) \n",
    "print(g2) \n",
    "print(g3) "
   ]
  },
  {
   "cell_type": "code",
   "execution_count": 11,
   "id": "73bb640a-c1b0-4e1b-a71a-4c4215248aee",
   "metadata": {},
   "outputs": [
    {
     "name": "stdout",
     "output_type": "stream",
     "text": [
      "1 10000\n",
      "1 56789\n"
     ]
    }
   ],
   "source": [
    "def func(arr):\n",
    "    max = arr[0]\n",
    "    min = arr[0]\n",
    "\n",
    "    for num in arr:\n",
    "        if num < min:\n",
    "            min = num\n",
    "        elif num > max:\n",
    "            max = num\n",
    "    return  min, max\n",
    "\n",
    "max, min = func([3,2,1,56,10000,167])\n",
    "print(max, min)\n",
    "max, min = func([1, 345, 234, 21, 56789])\n",
    "print(max, min)\n",
    "    "
   ]
  },
  {
   "cell_type": "code",
   "execution_count": null,
   "id": "ddad92f9-55f4-4be3-ab55-ed7d5d09e0fd",
   "metadata": {},
   "outputs": [],
   "source": [
    "# function which can find length of list,"
   ]
  }
 ],
 "metadata": {
  "kernelspec": {
   "display_name": "Python 3 (ipykernel)",
   "language": "python",
   "name": "python3"
  },
  "language_info": {
   "codemirror_mode": {
    "name": "ipython",
    "version": 3
   },
   "file_extension": ".py",
   "mimetype": "text/x-python",
   "name": "python",
   "nbconvert_exporter": "python",
   "pygments_lexer": "ipython3",
   "version": "3.13.3"
  }
 },
 "nbformat": 4,
 "nbformat_minor": 5
}
