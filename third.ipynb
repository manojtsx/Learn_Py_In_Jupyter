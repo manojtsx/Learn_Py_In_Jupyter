{
 "cells": [
  {
   "cell_type": "code",
   "execution_count": 2,
   "id": "29316691-7203-4e29-847e-a8481c7719f9",
   "metadata": {},
   "outputs": [],
   "source": [
    "# Write to a text file: save a list of names into a file.\n",
    "names = [\"Manoj\", \"Remon\", \"Hari\", \"Ram\"]\n",
    "\n",
    "with open(\"name.txt\", \"w\") as file: #opens the file name.txt in write mode\n",
    "    for name in names: #iterate over the file\n",
    "        file.write(name + \"\\n\") #write the name in the file with line break"
   ]
  },
  {
   "cell_type": "code",
   "execution_count": 7,
   "id": "32158940-0198-4b6e-bc15-be22b5794b41",
   "metadata": {},
   "outputs": [
    {
     "name": "stdout",
     "output_type": "stream",
     "text": [
      "\n",
      "Manoj\n",
      "Remon\n",
      "Hari\n",
      "Ram\n",
      "\n"
     ]
    }
   ],
   "source": [
    "#read from the file\n",
    "with open(\"name.txt\", \"r\") as file:\n",
    "    content = file.read();\n",
    "    content1 = file.read(); # this won't read anything because file is already at the end by reading\n",
    "    print(content1)\n",
    "    print(content)"
   ]
  },
  {
   "cell_type": "code",
   "execution_count": 8,
   "id": "ce84d51c-e0a7-44bd-a0c4-d89de79df85b",
   "metadata": {},
   "outputs": [
    {
     "name": "stdout",
     "output_type": "stream",
     "text": [
      "4\n"
     ]
    }
   ],
   "source": [
    "#count the number of line in file\n",
    "with open(\"name.txt\", \"r\") as file:\n",
    "    count = 0\n",
    "    for line in file:\n",
    "        line.strip()\n",
    "        count += 1\n",
    "    print(count)\n",
    "        "
   ]
  },
  {
   "cell_type": "code",
   "execution_count": 16,
   "id": "ad8b182c-5992-48cb-8e48-800dc8f94519",
   "metadata": {},
   "outputs": [
    {
     "name": "stdout",
     "output_type": "stream",
     "text": [
      "Your name is Manoj and age is 14 years old.\n"
     ]
    }
   ],
   "source": [
    "class Person:\n",
    "    def __init__(self, name, age):\n",
    "        self.name = name;\n",
    "        self.age = age;\n",
    "    def greet(self):\n",
    "        return f'Your name is {self.name} and age is {self.age} years old.'\n",
    "\n",
    "c1 = Person(\"Manoj\", 14)\n",
    "print(c1.greet())\n"
   ]
  },
  {
   "cell_type": "code",
   "execution_count": 19,
   "id": "f3dde385-6e4b-461d-8102-fcf1ea636dd2",
   "metadata": {},
   "outputs": [
    {
     "name": "stdout",
     "output_type": "stream",
     "text": [
      "the car has started.\n",
      "the car has stoopped.\n"
     ]
    }
   ],
   "source": [
    "# Create a Car class with attributes like model and speed. Add methods to start and stop the car.\n",
    "class Car:\n",
    "    def __init__(self, model, speed):\n",
    "        self.model = model;\n",
    "        self.speed = speed;\n",
    "\n",
    "    def start(self):\n",
    "        return 'the car has started.'\n",
    "\n",
    "    def stop(self):\n",
    "        return 'the car has stoopped.'\n",
    "\n",
    "c1 = Car(\"Lamborghini\", 180)\n",
    "print(c1.start())\n",
    "print(c1.stop())"
   ]
  },
  {
   "cell_type": "code",
   "execution_count": 21,
   "id": "4cf7de4c-f194-47eb-ac35-c9788b02338a",
   "metadata": {},
   "outputs": [
    {
     "name": "stdout",
     "output_type": "stream",
     "text": [
      "You have 4000 in your bank\n",
      "You have deposited 4000 and now you have 8000 in your bank\n",
      "You have 8000 in your bank\n",
      "You have withdrawn 3000 and now you have 5000 in your bank\n",
      "You have 5000 in your bank\n"
     ]
    }
   ],
   "source": [
    "# Create a BankAccount class with deposit and withdraw methods.\n",
    "class BankAccount:\n",
    "    def __init__(self, money):\n",
    "        self.money = money;\n",
    "\n",
    "    def check(self):\n",
    "        return f'You have {self.money} in your bank'\n",
    "        \n",
    "    def deposit(self, money):\n",
    "        self.money += money;\n",
    "        return f'You have deposited {money} and now you have {self.money} in your bank'\n",
    "\n",
    "    def withdraw(self, money):\n",
    "        self.money -= money;\n",
    "        return f'You have withdrawn {money} and now you have {self.money} in your bank'\n",
    "\n",
    "b1 = BankAccount(4000);\n",
    "print(b1.check())\n",
    "print(b1.deposit(4000))\n",
    "print(b1.check())\n",
    "print(b1.withdraw(3000))\n",
    "print(b1.check())"
   ]
  },
  {
   "cell_type": "code",
   "execution_count": null,
   "id": "ed25d4a4-a9db-4bcf-aa4a-476649489d28",
   "metadata": {},
   "outputs": [],
   "source": []
  }
 ],
 "metadata": {
  "kernelspec": {
   "display_name": "Python 3 (ipykernel)",
   "language": "python",
   "name": "python3"
  },
  "language_info": {
   "codemirror_mode": {
    "name": "ipython",
    "version": 3
   },
   "file_extension": ".py",
   "mimetype": "text/x-python",
   "name": "python",
   "nbconvert_exporter": "python",
   "pygments_lexer": "ipython3",
   "version": "3.13.3"
  }
 },
 "nbformat": 4,
 "nbformat_minor": 5
}
