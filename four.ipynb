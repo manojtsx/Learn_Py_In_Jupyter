{
 "cells": [
  {
   "cell_type": "code",
   "execution_count": 5,
   "id": "fe0caf52-a47d-482f-aacf-620d05e1b651",
   "metadata": {},
   "outputs": [
    {
     "name": "stdout",
     "output_type": "stream",
     "text": [
      "Square root :  4.0\n",
      "Power :  256.0\n",
      "Factorial :  20922789888000\n"
     ]
    }
   ],
   "source": [
    "# Use the math module to calculate the square root, power, and factorial.\n",
    "import math\n",
    "num = 16\n",
    "print('Square root : ' , math.sqrt(num))\n",
    "print('Power : ' , math.pow(num,2))\n",
    "print('Factorial : ' , math.factorial(num))"
   ]
  },
  {
   "cell_type": "code",
   "execution_count": 3,
   "id": "0cf6c730-9fdd-4484-a0ad-5ea17987c91f",
   "metadata": {},
   "outputs": [
    {
     "name": "stdout",
     "output_type": "stream",
     "text": [
      "2\n"
     ]
    }
   ],
   "source": [
    "# Use random to simulate a dice roll.\n",
    "import random\n",
    "print(random.randint(1,6))"
   ]
  },
  {
   "cell_type": "code",
   "execution_count": 4,
   "id": "9298ea4b-8124-4c33-a7b5-d47c742a7f43",
   "metadata": {},
   "outputs": [
    {
     "name": "stdout",
     "output_type": "stream",
     "text": [
      "2\n"
     ]
    }
   ],
   "source": [
    "# seeding using the random\n",
    "random.seed(3)\n",
    "print(random.randint(1,6))"
   ]
  },
  {
   "cell_type": "code",
   "execution_count": 8,
   "id": "efae1171-6467-44d7-956e-c451b9996bc2",
   "metadata": {},
   "outputs": [
    {
     "name": "stdin",
     "output_type": "stream",
     "text": [
      "enter you weight (in kg) :  50\n",
      "enter you height (in m) :  1.7\n"
     ]
    },
    {
     "name": "stdout",
     "output_type": "stream",
     "text": [
      "underweight\n"
     ]
    }
   ],
   "source": [
    "# bmi calculator\n",
    "import math\n",
    "weight = float(input(\"enter you weight (in kg) : \"))\n",
    "height = float(input(\"enter you height (in m) : \"))\n",
    "bmi = weight / math.pow(height,2)\n",
    "if bmi < 18.5:\n",
    "    print(\"underweight\")\n",
    "elif bmi >= 18.5 and bmi < 25:\n",
    "    print(\"normal weight\")\n",
    "elif bmi >= 25 and bmi < 30:\n",
    "    print(\"overweight\")\n",
    "elif bmi >= 30:\n",
    "    print(\"obese\")"
   ]
  }
 ],
 "metadata": {
  "kernelspec": {
   "display_name": "Python 3 (ipykernel)",
   "language": "python",
   "name": "python3"
  },
  "language_info": {
   "codemirror_mode": {
    "name": "ipython",
    "version": 3
   },
   "file_extension": ".py",
   "mimetype": "text/x-python",
   "name": "python",
   "nbconvert_exporter": "python",
   "pygments_lexer": "ipython3",
   "version": "3.13.3"
  }
 },
 "nbformat": 4,
 "nbformat_minor": 5
}
